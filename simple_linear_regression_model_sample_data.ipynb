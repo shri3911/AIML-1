{
  "nbformat": 4,
  "nbformat_minor": 0,
  "metadata": {
    "colab": {
      "provenance": [],
      "authorship_tag": "ABX9TyPH6plTVqs0eUoki3nss1Ez",
      "include_colab_link": true
    },
    "kernelspec": {
      "name": "python3",
      "display_name": "Python 3"
    },
    "language_info": {
      "name": "python"
    }
  },
  "cells": [
    {
      "cell_type": "markdown",
      "metadata": {
        "id": "view-in-github",
        "colab_type": "text"
      },
      "source": [
        "<a href=\"https://colab.research.google.com/github/shri3911/AIML-1/blob/main/simple_linear_regression_model_sample_data.ipynb\" target=\"_parent\"><img src=\"https://colab.research.google.com/assets/colab-badge.svg\" alt=\"Open In Colab\"/></a>"
      ]
    },
    {
      "cell_type": "code",
      "source": [
        "X = [0.1, 0.2, 0.3, 0.4]\n",
        "Y = [2.2, 2.4, 2.6, 2.8]"
      ],
      "metadata": {
        "id": "sslx7atc7hmy"
      },
      "execution_count": 20,
      "outputs": []
    },
    {
      "cell_type": "code",
      "source": [
        "m = 0\n",
        "c = 0\n",
        "learning_rate = 0.1\n",
        "iterations = 1000\n",
        "n = len(X)\n"
      ],
      "metadata": {
        "id": "IbLCWaMc7orR"
      },
      "execution_count": 21,
      "outputs": []
    },
    {
      "cell_type": "code",
      "source": [
        "for i in range(iterations):\n",
        "    y_pred = [m * x + c for x in X]\n",
        "    error = [y - yp for y, yp in zip(Y, y_pred)]\n",
        "    dm = (-2/n) * sum(x * e for x, e in zip(X, error))\n",
        "    dc = (-2/n) * sum(error)"
      ],
      "metadata": {
        "id": "Pv5shYZz7pzj"
      },
      "execution_count": 22,
      "outputs": []
    },
    {
      "cell_type": "code",
      "source": [
        "m -= learning_rate * dm\n",
        "c -= learning_rate * dc"
      ],
      "metadata": {
        "id": "9gHF_A5B75ET"
      },
      "execution_count": 23,
      "outputs": []
    },
    {
      "cell_type": "code",
      "source": [
        "print(f\"Final slope (m): {m}\")\n",
        "print(f\"Final intercept (c): {c}\")"
      ],
      "metadata": {
        "colab": {
          "base_uri": "https://localhost:8080/"
        },
        "id": "-QsyVffK79Zb",
        "outputId": "a85b20fb-481c-437c-f07a-9c73f33d394c"
      },
      "execution_count": 30,
      "outputs": [
        {
          "output_type": "stream",
          "name": "stdout",
          "text": [
            "Final slope (m): 0.12999999999999998\n",
            "Final intercept (c): 0.5\n"
          ]
        }
      ]
    }
  ]
}