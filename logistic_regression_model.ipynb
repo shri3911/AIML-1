{
  "nbformat": 4,
  "nbformat_minor": 0,
  "metadata": {
    "colab": {
      "provenance": [],
      "authorship_tag": "ABX9TyMJWFkErGdMoR7WHdVigRpT",
      "include_colab_link": true
    },
    "kernelspec": {
      "name": "python3",
      "display_name": "Python 3"
    },
    "language_info": {
      "name": "python"
    }
  },
  "cells": [
    {
      "cell_type": "markdown",
      "metadata": {
        "id": "view-in-github",
        "colab_type": "text"
      },
      "source": [
        "<a href=\"https://colab.research.google.com/github/shri3911/AIML-1/blob/main/logistic_regression_model.ipynb\" target=\"_parent\"><img src=\"https://colab.research.google.com/assets/colab-badge.svg\" alt=\"Open In Colab\"/></a>"
      ]
    },
    {
      "cell_type": "code",
      "execution_count": 1,
      "metadata": {
        "id": "Uh--m31PZys9"
      },
      "outputs": [],
      "source": [
        "import numpy as np"
      ]
    },
    {
      "cell_type": "code",
      "source": [
        "X = np.array([\n",
        "    [0.1, 0.2],\n",
        "    [0.2, 0.3],\n",
        "    [0.3, 0.4],\n",
        "    [-1, -2],\n",
        "    [-3, -4]\n",
        "])\n",
        "y = np.array([1, 1, 1, 0, 0])"
      ],
      "metadata": {
        "id": "Mm5UF8qxZ3nW"
      },
      "execution_count": 2,
      "outputs": []
    },
    {
      "cell_type": "code",
      "source": [
        "def sigmoid(z):\n",
        "    return 1 / (1 + np.exp(-z))\n"
      ],
      "metadata": {
        "id": "p-bs4E-VZ-MT"
      },
      "execution_count": 3,
      "outputs": []
    },
    {
      "cell_type": "code",
      "source": [
        "def compute_loss(y, y_pred):\n",
        "    return -np.mean(y * np.log(y_pred + 1e-15) + (1 - y) * np.log(1 - y_pred + 1e-15))"
      ],
      "metadata": {
        "id": "8Q6bJ92iZ3lj"
      },
      "execution_count": 4,
      "outputs": []
    },
    {
      "cell_type": "code",
      "source": [
        "learning_rate = 0.1\n",
        "epochs = 1000\n",
        "m, n = X.shape\n",
        "X = np.hstack((np.ones((m, 1)), X))  # Add bias term\n",
        "weights = np.zeros(n + 1)"
      ],
      "metadata": {
        "id": "sUUPiOQDaO17"
      },
      "execution_count": 6,
      "outputs": []
    },
    {
      "cell_type": "code",
      "source": [
        "for epoch in range(epochs):\n",
        "    z = np.dot(X, weights)\n",
        "    y_pred = sigmoid(z)\n",
        "    gradient = np.dot(X.T, (y_pred - y)) / m\n",
        "    weights -= learning_rate * gradient\n",
        "    if epoch % 100 == 0:\n",
        "        loss = compute_loss(y, y_pred)\n",
        "        print(f\"Epoch {epoch}: Loss = {loss:.4f}\")\n",
        "\n",
        "print(\"Final weights:\", weights)"
      ],
      "metadata": {
        "colab": {
          "base_uri": "https://localhost:8080/"
        },
        "id": "2qYYfxYiaSDi",
        "outputId": "abd649c8-2886-41e5-af8a-6f35b8e73adc"
      },
      "execution_count": 8,
      "outputs": [
        {
          "output_type": "stream",
          "name": "stdout",
          "text": [
            "Epoch 0: Loss = 0.0120\n",
            "Epoch 100: Loss = 0.0109\n",
            "Epoch 200: Loss = 0.0100\n",
            "Epoch 300: Loss = 0.0092\n",
            "Epoch 400: Loss = 0.0086\n",
            "Epoch 500: Loss = 0.0080\n",
            "Epoch 600: Loss = 0.0075\n",
            "Epoch 700: Loss = 0.0070\n",
            "Epoch 800: Loss = 0.0067\n",
            "Epoch 900: Loss = 0.0063\n",
            "Final weights: [3.4877996  1.94758027 3.3834181 ]\n"
          ]
        }
      ]
    }
  ]
}