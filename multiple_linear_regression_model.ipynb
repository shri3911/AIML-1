{
  "nbformat": 4,
  "nbformat_minor": 0,
  "metadata": {
    "colab": {
      "provenance": [],
      "authorship_tag": "ABX9TyOM1mH873jUMNORaczUbw4A",
      "include_colab_link": true
    },
    "kernelspec": {
      "name": "python3",
      "display_name": "Python 3"
    },
    "language_info": {
      "name": "python"
    }
  },
  "cells": [
    {
      "cell_type": "markdown",
      "metadata": {
        "id": "view-in-github",
        "colab_type": "text"
      },
      "source": [
        "<a href=\"https://colab.research.google.com/github/shri3911/AIML-1/blob/main/multiple_linear_regression_model.ipynb\" target=\"_parent\"><img src=\"https://colab.research.google.com/assets/colab-badge.svg\" alt=\"Open In Colab\"/></a>"
      ]
    },
    {
      "cell_type": "code",
      "execution_count": 1,
      "metadata": {
        "id": "rMIoKH6V_Msb"
      },
      "outputs": [],
      "source": [
        "X1 = [0.2, 0.4, 0.6, 0.8, 0.1]\n",
        "X2 = [0.1, 0.3, 0.5, 0.7, 0.2]\n",
        "Y =  [4.7, 5.7, 6.7, 7.7, 4.8]"
      ]
    },
    {
      "cell_type": "code",
      "source": [
        "m1 = 0  # initial weight for X1\n",
        "m2 = 0  # initial weight for X2\n",
        "c = 0   # initial intercept\n",
        "learning_rate = 0.1\n",
        "iterations = 1000\n",
        "n = len(X1)"
      ],
      "metadata": {
        "id": "eimmJWSr_ZUR"
      },
      "execution_count": 2,
      "outputs": []
    },
    {
      "cell_type": "code",
      "source": [
        "for i in range(iterations):\n",
        "    Y_pred = [m1 * x1 + m2 * x2 + c for x1, x2 in zip(X1, X2)]\n",
        "    error = [y - yp for y, yp in zip(Y, Y_pred)]\n",
        "    dm1 = (-2/n) * sum(x1 * e for x1, e in zip(X1, error))\n",
        "    dm2 = (-2/n) * sum(x2 * e for x2, e in zip(X2, error))\n",
        "    dc = (-2/n) * sum(error)"
      ],
      "metadata": {
        "id": "JBVdmYW-_fW5"
      },
      "execution_count": 3,
      "outputs": []
    },
    {
      "cell_type": "code",
      "source": [
        "m1 -= learning_rate * dm1\n",
        "m2 -= learning_rate * dm2\n",
        "c -= learning_rate * dc"
      ],
      "metadata": {
        "id": "VTroI53K_imT"
      },
      "execution_count": 4,
      "outputs": []
    },
    {
      "cell_type": "code",
      "source": [
        "print(f\"Final m1 (weight for X1): {m1}\")\n",
        "print(f\"Final m2 (weight for X2): {m2}\")\n",
        "print(f\"Final intercept (c): {c}\")"
      ],
      "metadata": {
        "colab": {
          "base_uri": "https://localhost:8080/"
        },
        "id": "sCG5zbeH_rla",
        "outputId": "29d764ee-29c2-4f3e-be1d-71c17e701b03"
      },
      "execution_count": 5,
      "outputs": [
        {
          "output_type": "stream",
          "name": "stdout",
          "text": [
            "Final m1 (weight for X1): 0.5552\n",
            "Final m2 (weight for X2): 0.4752\n",
            "Final intercept (c): 1.1840000000000002\n"
          ]
        }
      ]
    }
  ]
}